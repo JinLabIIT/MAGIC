{
 "cells": [
  {
   "cell_type": "code",
   "execution_count": 7,
   "metadata": {},
   "outputs": [
    {
     "name": "stderr",
     "output_type": "stream",
     "text": [
      "I0919 10:37:31.707395 12036 <ipython-input-7-a48f39187f09>:50] Processing 0A32eTdBKayjCWhZqDOQ.asm\n"
     ]
    }
   ],
   "source": [
    "#!/usr/bin/python3\n",
    "import re\n",
    "import glog as log\n",
    "\n",
    "log.setLevel(\"INFO\")\n",
    "binaryIds = ['0A32eTdBKayjCWhZqDOQ', '01azqd4InC7m9JpocGv5', '0ACDbR5M3ZhBJajygTuf']\n",
    "\n",
    "def extractAsmInsts(binaryId):\n",
    "    lineNum = 1\n",
    "    bytePattern = re.compile('[A-Z0-9][A-Z0-9]')\n",
    "    imcompleteByte = re.compile('\\?\\?')\n",
    "    fileInput = open(binaryId + '.asm', 'rb')\n",
    "    fileOutput = open(binaryId + '.txt', 'w')\n",
    "    for line in fileInput:\n",
    "        elems = line.split()\n",
    "        decodedElems = [x.decode(\"utf-8\", \"ignore\") for x in elems]\n",
    "        seg = decodedElems.pop(0)\n",
    "        if seg.startswith('.text') is False:\n",
    "            # Since text segment maynot always be the head, we cannot break\n",
    "            log.debug(\"Line %d is out of text segment\" % lineNum)\n",
    "            continue\n",
    "        else:\n",
    "            addr = seg[6:]\n",
    "        \n",
    "        if len(decodedElems) > 0 and imcompleteByte.match(decodedElems[0]):\n",
    "            log.debug(\"Ignore imcomplete code at line %d: %s\" % (lineNum, \" \".join(decodedElems)))\n",
    "            continue\n",
    "\n",
    "        startIdx = 0\n",
    "        while startIdx < len(decodedElems) and bytePattern.match(decodedElems[startIdx]):\n",
    "            startIdx += 1\n",
    "\n",
    "        if startIdx == len(decodedElems):\n",
    "            log.debug(\"No instructions at line %d: %s\" % (lineNum, elems))\n",
    "            continue\n",
    "\n",
    "        endIdx = decodedElems.index(';') if ';' in decodedElems else len(decodedElems)\n",
    "        instElems = [addr] + decodedElems[startIdx: endIdx]\n",
    "        if len(instElems) > 1:\n",
    "            log.debug(\"Processed line %d: '%s' => '%s'\" % (lineNum, \" \".join(decodedElems), \" \".join(instElems)))\n",
    "            fileOutput.write(\" \".join(instElems) + '\\n')\n",
    "            \n",
    "        lineNum += 1\n",
    "\n",
    "    fileInput.close()\n",
    "    fileOutput.close()\n",
    "\n",
    "    \n",
    "for bId in binaryIds:\n",
    "    log.info('Processing ' + bId + '.asm')\n",
    "    extractAsmInsts(bId)"
   ]
  },
  {
   "cell_type": "code",
   "execution_count": null,
   "metadata": {},
   "outputs": [],
   "source": []
  }
 ],
 "metadata": {
  "kernelspec": {
   "display_name": "Python 3",
   "language": "python",
   "name": "python3"
  },
  "language_info": {
   "codemirror_mode": {
    "name": "ipython",
    "version": 3
   },
   "file_extension": ".py",
   "mimetype": "text/x-python",
   "name": "python",
   "nbconvert_exporter": "python",
   "pygments_lexer": "ipython3",
   "version": "3.5.2"
  }
 },
 "nbformat": 4,
 "nbformat_minor": 2
}
