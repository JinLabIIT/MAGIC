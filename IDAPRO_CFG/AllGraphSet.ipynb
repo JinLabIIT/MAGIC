{
 "cells": [
  {
   "cell_type": "code",
   "execution_count": 22,
   "metadata": {},
   "outputs": [],
   "source": [
    "from __future__ import absolute_import\n",
    "from __future__ import division\n",
    "from __future__ import print_function\n",
    "\n",
    "import glob\n",
    "import pickle as pkl\n",
    "import numpy as np\n",
    "import scipy as sp\n",
    "import pandas as pd\n",
    "from collections import Counter\n",
    "from networkx import number_of_nodes, adjacency_matrix\n",
    "from node_attributes import node_features\n",
    "\n",
    "class_dirnames = glob.glob('*')\n",
    "\n",
    "graph_sizes = {'Benign': [], 'Bagle': [], 'Bifrose': []}\n",
    "total = 0\n",
    "output_dir = 'AllACFGs/'\n",
    "CFG_labels = ['Benign' , 'Bagle', 'Bifrose']"
   ]
  },
  {
   "cell_type": "code",
   "execution_count": 23,
   "metadata": {},
   "outputs": [
    {
     "name": "stdout",
     "output_type": "stream",
     "text": [
      "Processing Bagle CFGs\n",
      "Processing Bifrose CFGs\n",
      "[Warning] Bifrose/68577f95d878fb0d3cb1ccb311bcd375 is empty\n",
      "Processing Benign CFGs\n",
      "[Warning] Benign/ef11db385af16b633efbd524907baa58 is empty\n",
      "1689 CFGs\n"
     ]
    }
   ],
   "source": [
    "\"\"\"Path name format: class/graph_id/pkl_name\"\"\"\n",
    "for class_dirname in class_dirnames:\n",
    "    if class_dirname not in CFG_labels:\n",
    "        continue\n",
    "    \n",
    "    print(\"Processing %s CFGs\" % class_dirname)\n",
    "    data_dirnames = glob.glob(class_dirname + '/*')\n",
    "    for data_dirname in data_dirnames:\n",
    "        pkl_filenames = glob.glob(data_dirname + '/*')\n",
    "        if len(pkl_filenames) == 0:\n",
    "            print('[Warning] %s is empty' % data_dirname)\n",
    "        else:\n",
    "            # Assume only 1 file under data dir\n",
    "            total += 1\n",
    "            G = pkl.load(open(pkl_filenames[0], 'rb'))\n",
    "            graph_sizes[class_dirname].append(number_of_nodes(G))\n",
    "            \n",
    "            graph_id = pkl_filenames[0].split('/')[1]\n",
    "            label = class_dirname\n",
    "            features = node_features(G)\n",
    "            np.savetxt(output_dir + graph_id + '.features.txt', features, fmt=\"%d\")\n",
    "            np.savetxt(output_dir + graph_id + '.label.txt', np.array([label]), fmt=\"%s\")\n",
    "            # np.savetxt(output_dir + graph_id + '.adjacent.txt', adjacency_matrix(G).todense(), fmt=\"%d\")\n",
    "            sp.sparse.save_npz(output_dir + graph_id + '.adjacent', adjacency_matrix(G))\n",
    "\n",
    "\n",
    "print(\"%d CFGs\" % total)\n",
    "graph_size_pd = pd.DataFrame.from_dict(graph_sizes, orient='index').T\n",
    "graph_size_pd.to_csv(output_dir + 'graph_sizes.csv', index=False, header=True)"
   ]
  },
  {
   "cell_type": "code",
   "execution_count": 24,
   "metadata": {},
   "outputs": [
    {
     "name": "stdout",
     "output_type": "stream",
     "text": [
      "{'Benign': 518, 'Bagle': 152, 'Bifrose': 1019}\n"
     ]
    }
   ],
   "source": [
    "from matplotlib import pyplot as plt\n",
    "import numpy as np\n",
    "import pandas as pd\n",
    "\n",
    "data = pd.read_csv(output_dir + 'graph_sizes.csv', header=0)\n",
    "max_num_nodes = data.max()\n",
    "label_cnts = {key: data[key].count() for key in CFG_labels}\n",
    "print(label_cnts)"
   ]
  },
  {
   "cell_type": "code",
   "execution_count": 26,
   "metadata": {},
   "outputs": [
    {
     "data": {
      "image/png": "[encoded data removed]",
      "text/plain": [
       "<matplotlib.figure.Figure at 0x7f63e0109250>"
      ]
     },
     "metadata": {},
     "output_type": "display_data"
    }
   ],
   "source": [
    "def plot_hist_in_range(data, left=1, right=200):\n",
    "    for column in data:\n",
    "        df = data[column].dropna()\n",
    "        max_num_nodes = df.max()\n",
    "        plt.hist(df, bins=np.arange(left, right, 1), density=False,\n",
    "                 histtype='step', label=column)\n",
    "\n",
    "    plt.legend()\n",
    "    plt.title('Histogram of graph size')\n",
    "    plt.grid(True)\n",
    "    plt.show()\n",
    "    \n",
    "\n",
    "plot_hist_in_range(data, right=480)"
   ]
  },
  {
   "cell_type": "code",
   "execution_count": null,
   "metadata": {},
   "outputs": [],
   "source": []
  }
 ],
 "metadata": {
  "kernelspec": {
   "display_name": "Python 2",
   "language": "python",
   "name": "python2"
  },
  "language_info": {
   "codemirror_mode": {
    "name": "ipython",
    "version": 2
   },
   "file_extension": ".py",
   "mimetype": "text/x-python",
   "name": "python",
   "nbconvert_exporter": "python",
   "pygments_lexer": "ipython2",
   "version": "2.7.12"
  }
 },
 "nbformat": 4,
 "nbformat_minor": 2
}
