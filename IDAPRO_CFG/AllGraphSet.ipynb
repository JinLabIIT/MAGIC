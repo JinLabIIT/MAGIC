{
 "cells": [
  {
   "cell_type": "code",
   "execution_count": 1,
   "metadata": {},
   "outputs": [],
   "source": [
    "from node_attributes import classify_operator, match_constant\n",
    "\n",
    "def node_features(G):\n",
    "    \"\"\"\n",
    "    Extract features in each node:\n",
    "    7 operator features + 2 operand features.\n",
    "    \"\"\"\n",
    "    features = np.zeros((number_of_nodes(G), 7 + 2))\n",
    "    for (i, (node, attributes)) in enumerate(G.nodes(data=True)):\n",
    "        instructions = attributes['Ins']\n",
    "        for (addr, inst) in instructions:\n",
    "            if len(inst) == 0:\n",
    "                break\n",
    "            \"\"\"\n",
    "            Format of assembly code: \"operator operand, operand, ..., operand\"\n",
    "            \"\"\"\n",
    "            operator_class = classify_operator(inst[0])\n",
    "            features[i, operator_class] += 1\n",
    "            if len(inst) == 1:\n",
    "                continue\n",
    "                \n",
    "            for part in inst[1].split(','):\n",
    "                comment_idx = part.find(';')\n",
    "                operand = part if comment_idx == -1 else part[:comment_idx]\n",
    "                numeric_cnts, string_cnts = match_constant(operand)\n",
    "                features[i, -2] += numeric_cnts\n",
    "                features[i, -1] += string_cnts\n",
    "                \n",
    "    return features"
   ]
  },
  {
   "cell_type": "code",
   "execution_count": 2,
   "metadata": {},
   "outputs": [
    {
     "name": "stdout",
     "output_type": "stream",
     "text": [
      "Processing Bagle CFGs\n",
      "Processing Bifrose CFGs\n",
      "[Warning] Bifrose/68577f95d878fb0d3cb1ccb311bcd375 is empty\n",
      "Processing Benign CFGs\n",
      "[Warning] Benign/ef11db385af16b633efbd524907baa58 is empty\n",
      "1689 CFGs\n"
     ]
    }
   ],
   "source": [
    "from __future__ import absolute_import\n",
    "from __future__ import division\n",
    "from __future__ import print_function\n",
    "\n",
    "import glob\n",
    "import pickle as pkl\n",
    "import numpy as np\n",
    "import scipy as sp\n",
    "import pandas as pd\n",
    "from collections import Counter\n",
    "from networkx import number_of_nodes, adjacency_matrix\n",
    "\n",
    "class_dirnames = glob.glob('*')\n",
    "\n",
    "graph_sizes = {'Benign': [], 'Bagle': [], 'Bifrose': []}\n",
    "total = 0\n",
    "output_dir = 'AllACFGs/'\n",
    "CFG_labels = ['Benign', 'Bagle', 'Bifrose']\n",
    "\n",
    "\"\"\"Path name format: class/graph_id/pkl_name\"\"\"\n",
    "for class_dirname in class_dirnames:\n",
    "    if class_dirname not in CFG_labels:\n",
    "        continue\n",
    "    \n",
    "    print(\"Processing %s CFGs\" % class_dirname)\n",
    "    data_dirnames = glob.glob(class_dirname + '/*')\n",
    "    for data_dirname in data_dirnames:\n",
    "        pkl_filenames = glob.glob(data_dirname + '/*')\n",
    "        if len(pkl_filenames) == 0:\n",
    "            print('[Warning] %s is empty' % data_dirname)\n",
    "        else:\n",
    "            # Assume only 1 file under data dir\n",
    "            total += 1\n",
    "            G = pkl.load(open(pkl_filenames[0], 'rb'))\n",
    "            graph_sizes[class_dirname].append(number_of_nodes(G))\n",
    "            # features = node_features(G)\n",
    "            # np.savetxt(output_dir + graph_id + '.features.txt', features, fmt=\"%d\")\n",
    "            # np.savetxt(output_dir + graph_id + '.label.txt', np.array([label]), fmt=\"%s\")\n",
    "            # np.savetxt(output_dir + graph_id + '.adjacent.txt', adjacency_matrix(G).todense(), fmt=\"%d\")\n",
    "            # sp.sparse.save_npz(output_dir + graph_id + '.adjacent', adjacency_matrix(G))\n",
    "\n",
    "\n",
    "print(\"%d CFGs\" % total)\n",
    "graph_size_pd = pd.DataFrame.from_dict(graph_sizes, orient='index').T\n",
    "graph_size_pd.to_csv(output_dir + 'graph_sizes.csv', index=False, header=True)"
   ]
  },
  {
   "cell_type": "code",
   "execution_count": 3,
   "metadata": {},
   "outputs": [
    {
     "name": "stdout",
     "output_type": "stream",
     "text": [
      "{'Benign': 518, 'Bagle': 152, 'Bifrose': 1019}\n"
     ]
    }
   ],
   "source": [
    "from matplotlib import pyplot as plt\n",
    "import pandas as pd\n",
    "import numpy as np\n",
    "\n",
    "data = pd.read_csv(output_dir + 'graph_sizes.csv', header=0)\n",
    "max_num_nodes = data.max()\n",
    "label_cnts = {key: data[key].count() for key in CFG_labels}\n",
    "print(label_cnts)"
   ]
  },
  {
   "cell_type": "code",
   "execution_count": 4,
   "metadata": {},
   "outputs": [
    {
     "data": {
      "image/png": "[encoded data removed]",
      "text/plain": [
       "<matplotlib.figure.Figure at 0x7f00ac0a8fd0>"
      ]
     },
     "metadata": {},
     "output_type": "display_data"
    }
   ],
   "source": [
    "for column in data:\n",
    "    df = data[column].dropna()\n",
    "    max_num_nodes = df.max()\n",
    "    plt.hist(df, bins=np.arange(0, max_num_nodes, 1),\n",
    "             histtype='step', label=column)\n",
    "\n",
    "plt.legend()\n",
    "plt.title('Histogram of graph size')\n",
    "plt.grid(True)\n",
    "plt.show()"
   ]
  },
  {
   "cell_type": "code",
   "execution_count": null,
   "metadata": {},
   "outputs": [],
   "source": []
  }
 ],
 "metadata": {
  "kernelspec": {
   "display_name": "Python 2",
   "language": "python",
   "name": "python2"
  },
  "language_info": {
   "codemirror_mode": {
    "name": "ipython",
    "version": 2
   },
   "file_extension": ".py",
   "mimetype": "text/x-python",
   "name": "python",
   "nbconvert_exporter": "python",
   "pygments_lexer": "ipython2",
   "version": "2.7.12"
  }
 },
 "nbformat": 4,
 "nbformat_minor": 2
}
