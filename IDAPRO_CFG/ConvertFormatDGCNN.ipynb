{
 "cells": [
  {
   "cell_type": "code",
   "execution_count": 35,
   "metadata": {},
   "outputs": [],
   "source": [
    "from __future__ import absolute_import\n",
    "from __future__ import division\n",
    "from __future__ import print_function\n",
    "\n",
    "import glob\n",
    "import os\n",
    "import pickle as pkl\n",
    "import numpy as np\n",
    "import scipy as sp\n",
    "import pandas as pd\n",
    "from networkx import number_of_nodes, adjacency_matrix, all_neighbors\n",
    "from node_attributes import node_features\n",
    "\n",
    "\n",
    "\"\"\"\n",
    "Read files under input_dir, aggregate ACFGs into\n",
    "the txt format defined in https://github.com/littlepretty/pytorch_DGCNN/tree/master/data.\n",
    "\"\"\"\n",
    "MAX_GRAPH_SIZE = 480\n",
    "input_dir = 'Small%dACFGs/'  % MAX_GRAPH_SIZE\n",
    "output_dir = 'DGCNN_Small%dACFGs/' % MAX_GRAPH_SIZE\n",
    "\n",
    "if not os.path.exists(output_dir):\n",
    "    os.makedirs(output_dir)\n",
    "\n",
    "\n",
    "CFG_filepaths = np.loadtxt(input_dir + 'small_graph_filenames.csv', dtype=str)\n",
    "CFG_labels = ['Bifrose', 'Bagle', 'Benign']\n",
    "CFG_cnts = [139, 139, 132]"
   ]
  },
  {
   "cell_type": "code",
   "execution_count": 36,
   "metadata": {},
   "outputs": [
    {
     "name": "stdout",
     "output_type": "stream",
     "text": [
      "[Finished] Convert 410 ACFGs to DGCNN txt format\n"
     ]
    }
   ],
   "source": [
    "def list2str(l1, l2):\n",
    "    \"\"\"\n",
    "    Merge two list, then return space seperated string format.\n",
    "    \"\"\"\n",
    "    return \" \".join([str(x) for x in list(l1) + list(l2)])[:-2]\n",
    "\n",
    "\n",
    "output = open(output_dir + 'cfg.txt', 'wb')\n",
    "output.write(\"%d\\n\" % sum(CFG_cnts))\n",
    "test_cnt = 0\n",
    "for pkl_filename in CFG_filepaths:\n",
    "    label = CFG_labels.index(pkl_filename.split('/')[0])\n",
    "    graph_id = pkl_filename.split('/')[1]\n",
    "    \n",
    "    features = np.loadtxt(input_dir + graph_id + '.features.txt', dtype=int, ndmin=2)\n",
    "    adjacent = np.loadtxt(input_dir + graph_id + '.adjacent.txt', dtype=int, ndmin=2)\n",
    "    test_cnt += 1\n",
    "    output.write(\"%d %d\\n\" % (features.shape[0], label))\n",
    "    \n",
    "    for (i, row) in enumerate(adjacent):\n",
    "        neighbors = np.flatnonzero(row)\n",
    "        feature = features[i, :]\n",
    "        output.write(\"1 %d %s\\n\" % (len(neighbors), list2str(neighbors, feature)))\n",
    "\n",
    "\n",
    "output.close()\n",
    "print(\"[Finished] Convert %d ACFGs to DGCNN txt format\" % test_cnt)"
   ]
  },
  {
   "cell_type": "code",
   "execution_count": null,
   "metadata": {},
   "outputs": [],
   "source": []
  }
 ],
 "metadata": {
  "kernelspec": {
   "display_name": "Python 2",
   "language": "python",
   "name": "python2"
  },
  "language_info": {
   "codemirror_mode": {
    "name": "ipython",
    "version": 2
   },
   "file_extension": ".py",
   "mimetype": "text/x-python",
   "name": "python",
   "nbconvert_exporter": "python",
   "pygments_lexer": "ipython2",
   "version": "2.7.12"
  }
 },
 "nbformat": 4,
 "nbformat_minor": 2
}
