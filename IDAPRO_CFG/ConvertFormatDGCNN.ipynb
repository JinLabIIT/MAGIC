{
 "cells": [
  {
   "cell_type": "markdown",
   "metadata": {},
   "source": [
    "### Convert Small ACFGs"
   ]
  },
  {
   "cell_type": "code",
   "execution_count": 22,
   "metadata": {},
   "outputs": [
    {
     "name": "stdout",
     "output_type": "stream",
     "text": [
      "Input: Small480ACFGs/, Output: DGCNN_Small480ACFGs/\n"
     ]
    }
   ],
   "source": [
    "from __future__ import absolute_import\n",
    "from __future__ import division\n",
    "from __future__ import print_function\n",
    "\n",
    "import glob\n",
    "import os\n",
    "import pickle as pkl\n",
    "import numpy as np\n",
    "import scipy as sp\n",
    "import pandas as pd\n",
    "from networkx import number_of_nodes, adjacency_matrix, all_neighbors\n",
    "from node_attributes import node_features\n",
    "\n",
    "\n",
    "\"\"\"\n",
    "Read files under input_dir, aggregate ACFGs into\n",
    "the txt format defined in https://github.com/littlepretty/pytorch_DGCNN/tree/master/data.\n",
    "\"\"\"\n",
    "MAX_GRAPH_SIZE = 480\n",
    "input_dir = 'Small%dACFGs/'  % MAX_GRAPH_SIZE\n",
    "output_dir = 'DGCNN_Small%dACFGs/' % MAX_GRAPH_SIZE\n",
    "\n",
    "if not os.path.exists(output_dir):\n",
    "    os.makedirs(output_dir)\n",
    "\n",
    "\n",
    "CFG_filepaths = np.loadtxt(input_dir + 'small_graph_filenames.csv', dtype=str)\n",
    "CFG_labels = ['Bifrose', 'Bagle', 'Benign']\n",
    "CFG_cnts = [139, 139, 132]\n",
    "print(\"Input: %s, Output: %s\" % (input_dir, output_dir))\n",
    "\n",
    "def list2str(l1, l2):\n",
    "    \"\"\"\n",
    "    Merge two list, then return space seperated string format.\n",
    "    \"\"\"\n",
    "    return \" \".join([str(x) for x in (list(l1) + list(l2))])\n",
    "\n",
    "\n",
    "output = open(output_dir + 'cfg.txt', 'wb')\n",
    "output.write(\"%d\\n\" % sum(CFG_cnts))\n",
    "test_cnt = 0\n",
    "for pkl_filename in CFG_filepaths:\n",
    "    label = CFG_labels.index(pkl_filename.split('/')[0])\n",
    "    graph_id = pkl_filename.split('/')[1]\n",
    "    \n",
    "    features = np.loadtxt(input_dir + graph_id + '.features.txt', dtype=int, ndmin=2)\n",
    "    adjacent = np.loadtxt(input_dir + graph_id + '.adjacent.txt', dtype=int, ndmin=2)\n",
    "    test_cnt += 1\n",
    "    output.write(\"%d %d\\n\" % (features.shape[0], label))\n",
    "    \n",
    "    for (i, row) in enumerate(adjacent):\n",
    "        neighbors = np.flatnonzero(row)\n",
    "        feature = features[i, :]\n",
    "        output.write(\"1 %d %s\\n\" % (len(neighbors), list2str(neighbors, feature)))\n",
    "\n",
    "\n",
    "output.close()\n",
    "print(\"[Finished] Convert %d ACFGs to DGCNN txt format\" % test_cnt)"
   ]
  },
  {
   "cell_type": "markdown",
   "metadata": {},
   "source": [
    "### Convert All ACFGs"
   ]
  },
  {
   "cell_type": "code",
   "execution_count": 31,
   "metadata": {},
   "outputs": [
    {
     "name": "stdout",
     "output_type": "stream",
     "text": [
      "Input: AllACFGs/, Output: DGCNN_AllACFGs/\n",
      "Benign      518\n",
      "Bagle       152\n",
      "Bifrose    1019\n",
      "dtype: int64\n"
     ]
    }
   ],
   "source": [
    "from __future__ import absolute_import\n",
    "from __future__ import division\n",
    "from __future__ import print_function\n",
    "\n",
    "import os\n",
    "import pickle as pkl\n",
    "import numpy as np\n",
    "import scipy as sp\n",
    "import pandas as pd\n",
    "\n",
    "\"\"\"\n",
    "Read files under input_dir, aggregate ACFGs into\n",
    "the txt format defined in https://github.com/littlepretty/pytorch_DGCNN/tree/master/data.\n",
    "\"\"\"\n",
    "input_dir = 'AllACFGs/'\n",
    "output_dir = 'DGCNN_AllACFGs/'\n",
    "\n",
    "if not os.path.exists(output_dir):\n",
    "    os.makedirs(output_dir)\n",
    "\n",
    "CFG_filepaths = np.loadtxt(input_dir + 'graph_filenames.csv', dtype=str)\n",
    "CFG_sizes = pd.read_csv(input_dir + 'graph_sizes.csv', header=0)\n",
    "CFG_labels = ['Bifrose', 'Bagle', 'Benign']\n",
    "CFG_cnts = CFG_sizes.count()\n",
    "print(\"Input: %s, Output: %s\\n%s\" % (input_dir, output_dir, CFG_cnts))\n"
   ]
  },
  {
   "cell_type": "code",
   "execution_count": 32,
   "metadata": {},
   "outputs": [
    {
     "name": "stdout",
     "output_type": "stream",
     "text": [
      "[Finished] Convert 1689 ACFGs to DGCNN txt format\n"
     ]
    }
   ],
   "source": [
    "def list2str(l1, l2):\n",
    "    \"\"\"\n",
    "    Merge two list, then return space seperated string format.\n",
    "    \"\"\"\n",
    "    return \" \".join([str(x) for x in (list(l1) + list(l2))])\n",
    "\n",
    "\n",
    "output = open(output_dir + 'cfg.txt', 'wb')\n",
    "output.write(\"%d\\n\" % sum(CFG_cnts.tolist()))\n",
    "test_cnt = 0\n",
    "for pkl_filename in CFG_filepaths:\n",
    "    label = CFG_labels.index(pkl_filename.split('/')[0])\n",
    "    graph_id = pkl_filename.split('/')[1]\n",
    "    \n",
    "    features = np.loadtxt(input_dir + graph_id + '.features.txt', dtype=int, ndmin=2)\n",
    "    sp_adjacent_mat = sp.sparse.load_npz(input_dir + graph_id + '.adjacent.npz')\n",
    "    output.write(\"%d %d\\n\" % (features.shape[0], label))\n",
    "    test_cnt += 1\n",
    "    \n",
    "    sp_adjacent = sp.sparse.find(sp_adjacent_mat)\n",
    "    indices = {}\n",
    "    for i in range(len(sp_adjacent[0])):\n",
    "        if sp_adjacent[0][i] not in indices:\n",
    "            indices[sp_adjacent[0][i]] = []\n",
    "            \n",
    "        indices[sp_adjacent[0][i]].append(sp_adjacent[1][i])\n",
    "        \n",
    "    for (i, feature) in enumerate(features):\n",
    "        neighbors = indices[i] if i in indices else []\n",
    "        output.write(\"1 %d %s\\n\" % (len(neighbors), list2str(neighbors, feature)))\n",
    "\n",
    "output.close()\n",
    "print(\"[Finished] Convert %d ACFGs to DGCNN txt format\" % test_cnt)\n"
   ]
  },
  {
   "cell_type": "code",
   "execution_count": null,
   "metadata": {},
   "outputs": [],
   "source": []
  }
 ],
 "metadata": {
  "kernelspec": {
   "display_name": "Python 2",
   "language": "python",
   "name": "python2"
  },
  "language_info": {
   "codemirror_mode": {
    "name": "ipython",
    "version": 2
   },
   "file_extension": ".py",
   "mimetype": "text/x-python",
   "name": "python",
   "nbconvert_exporter": "python",
   "pygments_lexer": "ipython2",
   "version": "2.7.12"
  }
 },
 "nbformat": 4,
 "nbformat_minor": 2
}
