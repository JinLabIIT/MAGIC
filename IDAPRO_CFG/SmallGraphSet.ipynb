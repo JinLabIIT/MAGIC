{
 "cells": [
  {
   "cell_type": "markdown",
   "metadata": {},
   "source": [
    "### Randomly sample MAX_SAMPLE_SIZE CFGs whose size < MAX_GRAPH_SIZE"
   ]
  },
  {
   "cell_type": "code",
   "execution_count": 1,
   "metadata": {},
   "outputs": [
    {
     "name": "stdout",
     "output_type": "stream",
     "text": [
      "Small480ACFGs/ already exists\n"
     ]
    }
   ],
   "source": [
    "from __future__ import absolute_import\n",
    "from __future__ import division\n",
    "from __future__ import print_function\n",
    "\n",
    "import glob\n",
    "import os\n",
    "import random\n",
    "import pickle as pkl\n",
    "import numpy as np\n",
    "import scipy as sp\n",
    "import pandas as pd\n",
    "from networkx import number_of_nodes, adjacency_matrix\n",
    "from node_attributes import node_features\n",
    "\n",
    "\n",
    "class_dirnames = glob.glob('*')\n",
    "small_graph_filenames = []\n",
    "total = 0\n",
    "MAX_SAMPLE_SIZE = 140\n",
    "MAX_GRAPH_SIZE = 480\n",
    "output_dir = 'Small%dACFGs/' % MAX_GRAPH_SIZE\n",
    "CFG_labels = ['Benign', 'Bagle', 'Bifrose']\n",
    "qualified = {'Benign': 0, 'Bagle': 0, 'Bifrose': 0}\n",
    "if not os.path.exists(output_dir):\n",
    "    os.makedirs(output_dir)\n",
    "    print(\"Create new dir %s\" % output_dir)\n",
    "else:\n",
    "    print(\"%s already exists\" % output_dir)"
   ]
  },
  {
   "cell_type": "code",
   "execution_count": 2,
   "metadata": {},
   "outputs": [
    {
     "name": "stdout",
     "output_type": "stream",
     "text": [
      "Processing Bagle CFGs\n",
      "Processing Bifrose CFGs\n",
      "[Warning] Bifrose/68577f95d878fb0d3cb1ccb311bcd375 is empty\n",
      "Processing Benign CFGs\n",
      "[Warning] Benign/ef11db385af16b633efbd524907baa58 is empty\n",
      "411 / 1689 = 0.2433\n",
      "10 random files processed\n",
      "['Bagle/e1e4da10fc6a6287604d896964131034/Email-Worm.Win32.Bagle.hs.gpickle', 'Benign/4658a71c68295204e177e55c4f454de4/4658a71c68295204e177e55c4f454de4.gpickle', 'Benign/85c132975b756dac894b97fb3aecbebf/85c132975b756dac894b97fb3aecbebf.gpickle', 'Bifrose/3d9ae0f753cb8b3153b1ddae439a92bf/Backdoor.Win32.Bifrose.ajtz.gpickle', 'Benign/de004b198f976e815714138467c9a358/de004b198f976e815714138467c9a358.gpickle', 'Bifrose/546770b72168d3780bc4c326e8c3cb09/Backdoor.Win32.Bifrose.amui.gpickle', 'Bifrose/02e5195733e00bf3f82336563070e0fc/02E5195733E00BF3F82336563070E0FC.VIR.gpickle', 'Bagle/6800e764afc34b8781c16e47b562ea6f/Trojan-Downloader.Win32.Bagle.ci.gpickle', 'Bagle/20c329c621760e3038fb2eb24aae0168/Email-Worm.Win32.Bagle.ba.gpickle', 'Bifrose/38bbade2cb370194ac4f3c3474cb2e95/Backdoor.Win32.Bifrose.alzx.gpickle']\n",
      "Qualified:  {'Benign': 132, 'Bagle': 139, 'Bifrose': 973}\n"
     ]
    }
   ],
   "source": [
    "\"\"\"Path name format: class/graph_id/pkl_name\"\"\"\n",
    "for class_dirname in class_dirnames:\n",
    "    if class_dirname not in CFG_labels:\n",
    "        continue\n",
    "    \n",
    "    print(\"Processing %s CFGs\" % class_dirname)\n",
    "    data_dirnames = glob.glob(class_dirname + '/*')\n",
    "    random.shuffle(data_dirnames)\n",
    "\n",
    "    cnt = MAX_SAMPLE_SIZE\n",
    "    for data_dirname in data_dirnames:\n",
    "        pkl_filenames = glob.glob(data_dirname + '/*')\n",
    "        if len(pkl_filenames) == 0:\n",
    "            print('[Warning] %s is empty' % data_dirname)\n",
    "        else:  # Assume only 1 file under data dir\n",
    "            total += 1\n",
    "            G = pkl.load(open(pkl_filenames[0], 'rb'))\n",
    "            if number_of_nodes(G) < MAX_GRAPH_SIZE:\n",
    "                label = class_dirname\n",
    "                graph_id = pkl_filenames[0].split('/')[1]\n",
    "                qualified[label] += 1\n",
    "\n",
    "                if cnt > 0:  # Not exceed sample size\n",
    "                    cnt -= 1\n",
    "                    small_graph_filenames.append(pkl_filenames[0])\n",
    "                    features = node_features(G)\n",
    "                    np.savetxt(output_dir + graph_id + '.features.txt', features, fmt=\"%d\")\n",
    "                    np.savetxt(output_dir + graph_id + '.label.txt', np.array([label]), fmt=\"%s\")\n",
    "                    np.savetxt(output_dir + graph_id + '.adjacent.txt', adjacency_matrix(G).todense(), fmt=\"%d\")\n",
    "                    sp.sparse.save_npz(output_dir + graph_id + '.adjacent', adjacency_matrix(G))\n",
    "\n",
    "\n",
    "np.savetxt(output_dir + 'small_graph_filenames.csv', small_graph_filenames, fmt=\"%s\")\n",
    "small_cnt = len(small_graph_filenames)\n",
    "print(\"%d / %d = %.4f\" % (small_cnt, total, small_cnt / total))\n",
    "print(\"10 random files processed\")\n",
    "print([small_graph_filenames[x] for x in np.random.randint(0, small_cnt, size=10)])\n",
    "print(\"Qualified: \", qualified)"
   ]
  },
  {
   "cell_type": "code",
   "execution_count": 4,
   "metadata": {},
   "outputs": [
    {
     "name": "stdout",
     "output_type": "stream",
     "text": [
      "Sampled:  Counter({'Bifrose': 140, 'Bagle': 139, 'Benign': 132})\n"
     ]
    },
    {
     "data": {
      "text/plain": [
       "<matplotlib.axes._subplots.AxesSubplot at 0x7f4aeb9fdb90>"
      ]
     },
     "execution_count": 4,
     "metadata": {},
     "output_type": "execute_result"
    },
    {
     "data": {
      "image/png": "[encoded data removed]",
      "text/plain": [
       "<matplotlib.figure.Figure at 0x7f4ae65d9550>"
      ]
     },
     "metadata": {},
     "output_type": "display_data"
    }
   ],
   "source": [
    "import matplotlib.pyplot as plt\n",
    "import pandas as pd\n",
    "from collections import Counter\n",
    "\n",
    "data = pd.read_csv(output_dir + 'small_graph_filenames.csv',\n",
    "                   delimiter='/', names=['label', 'graph_id', 'filename'])\n",
    "label_cnts = Counter(data['label'])\n",
    "print(\"Sampled: \", label_cnts)\n",
    "df = pd.DataFrame.from_dict(label_cnts, orient='index')\n",
    "df.plot(kind='bar')"
   ]
  },
  {
   "cell_type": "code",
   "execution_count": null,
   "metadata": {},
   "outputs": [],
   "source": []
  }
 ],
 "metadata": {
  "kernelspec": {
   "display_name": "Python 2",
   "language": "python",
   "name": "python2"
  },
  "language_info": {
   "codemirror_mode": {
    "name": "ipython",
    "version": 2
   },
   "file_extension": ".py",
   "mimetype": "text/x-python",
   "name": "python",
   "nbconvert_exporter": "python",
   "pygments_lexer": "ipython2",
   "version": "2.7.12"
  }
 },
 "nbformat": 4,
 "nbformat_minor": 2
}
