{
 "cells": [
  {
   "cell_type": "markdown",
   "metadata": {},
   "source": [
    "### Randomly sample MAX_SAMPLE_SIZE CFGs whose size < MAX_GRAPH_SIZE"
   ]
  },
  {
   "cell_type": "code",
   "execution_count": 17,
   "metadata": {},
   "outputs": [],
   "source": [
    "from __future__ import absolute_import\n",
    "from __future__ import division\n",
    "from __future__ import print_function\n",
    "\n",
    "import glob\n",
    "import os\n",
    "import random\n",
    "import pickle as pkl\n",
    "import numpy as np\n",
    "import scipy as sp\n",
    "import pandas as pd\n",
    "from networkx import number_of_nodes, adjacency_matrix\n",
    "from node_attributes import node_features\n",
    "\n",
    "\n",
    "class_dirnames = glob.glob('*')\n",
    "\n",
    "small_graph_filenames = []\n",
    "total = 0\n",
    "MAX_SAMPLE_SIZE = 140\n",
    "MAX_GRAPH_SIZE = 480\n",
    "output_dir = 'Small%dACFGs/' % MAX_GRAPH_SIZE\n",
    "CFG_labels = ['Benign', 'Bagle', 'Bifrose']\n",
    "if not os.path.exists(output_dir):\n",
    "    os.makedirs(output_dir)"
   ]
  },
  {
   "cell_type": "code",
   "execution_count": 15,
   "metadata": {},
   "outputs": [
    {
     "name": "stdout",
     "output_type": "stream",
     "text": [
      "Processing Bagle CFGs\n",
      "Processing Bifrose CFGs\n",
      "Processing Benign CFGs\n",
      "[Warning] Benign/ef11db385af16b633efbd524907baa58 is empty\n",
      "410 / 820 = 0.50\n",
      "10 random files processed\n",
      "['Benign/566c93b64e5709e5058d4aa1a711663c/566c93b64e5709e5058d4aa1a711663c.gpickle', 'Benign/f499d581cfc29baa3a12e07bce0dd877/f499d581cfc29baa3a12e07bce0dd877.gpickle', 'Bifrose/555b225fb25cfe1787273152ea5aa8ff/ar4up-ce0dd0258a.gpickle', 'Bagle/3dd4f928f077ed4eeea9d396f748b952/Trojan-Downloader.Win32.Bagle.ai.gpickle', 'Bifrose/07eef747f3b1b183ea17323789026e4e/Backdoor.Win32.Bifrose.alab.gpickle', 'Benign/24f260a978004a0cdaedce8f7fc67c86/24f260a978004a0cdaedce8f7fc67c86.gpickle', 'Bifrose/4bfaaf77df7bf02c19564305cb012ba0/Backdoor.Win32.Bifrose.afnb.gpickle', 'Bifrose/25817effc1a07bd9cb763c95baa401e1/Backdoor.Win32.Bifrose.dh.gpickle', 'Bifrose/44eb75dac7c52f5d8bc338ed36a070d5/Backdoor.Win32.Bifrose.aivh.gpickle', 'Bifrose/44eb75dac7c52f5d8bc338ed36a070d5/Backdoor.Win32.Bifrose.aivh.gpickle']\n"
     ]
    }
   ],
   "source": [
    "\"\"\"Path name format: class/graph_id/pkl_name\"\"\"\n",
    "for class_dirname in class_dirnames:\n",
    "    if class_dirname not in CFG_labels:\n",
    "        continue\n",
    "    \n",
    "    print(\"Processing %s CFGs\" % class_dirname)\n",
    "    data_dirnames = glob.glob(class_dirname + '/*')\n",
    "    random.shuffle(data_dirnames)\n",
    "\n",
    "    cnt = MAX_SAMPLE_SIZE\n",
    "    for data_dirname in data_dirnames:\n",
    "        pkl_filenames = glob.glob(data_dirname + '/*')\n",
    "        if len(pkl_filenames) == 0:\n",
    "            print('[Warning] %s is empty' % data_dirname)\n",
    "        else:  # Assume only 1 file under data dir\n",
    "            total += 1\n",
    "            G = pkl.load(open(pkl_filenames[0], 'rb'))\n",
    "            if number_of_nodes(G) < MAX_GRAPH_SIZE:\n",
    "                cnt -= 1\n",
    "                if cnt == 0:  # Exceed sample size\n",
    "                    break\n",
    "                \n",
    "                graph_id = pkl_filenames[0].split('/')[1]\n",
    "                label = class_dirname\n",
    "                small_graph_filenames.append(pkl_filenames[0])\n",
    "                features = node_features(G)\n",
    "                np.savetxt(output_dir + graph_id + '.features.txt', features, fmt=\"%d\")\n",
    "                np.savetxt(output_dir + graph_id + '.label.txt', np.array([label]), fmt=\"%s\")\n",
    "                np.savetxt(output_dir + graph_id + '.adjacent.txt', adjacency_matrix(G).todense(), fmt=\"%d\")\n",
    "                sp.sparse.save_npz(output_dir + graph_id + '.adjacent', adjacency_matrix(G))\n",
    "\n",
    "\n",
    "np.savetxt(output_dir + 'small_graph_filenames.csv', small_graph_filenames, fmt=\"%s\")\n",
    "small_cnt = len(small_graph_filenames)\n",
    "print(\"%d / %d = %.2f\" % (small_cnt, total, small_cnt / total))\n",
    "print(\"10 random files processed\")\n",
    "print([small_graph_filenames[x] for x in np.random.randint(0, small_cnt, size=10)])"
   ]
  },
  {
   "cell_type": "code",
   "execution_count": 16,
   "metadata": {},
   "outputs": [
    {
     "name": "stdout",
     "output_type": "stream",
     "text": [
      "Counter({'Bifrose': 139, 'Bagle': 139, 'Benign': 132})\n"
     ]
    },
    {
     "data": {
      "text/plain": [
       "<matplotlib.axes._subplots.AxesSubplot at 0x7fbee934ded0>"
      ]
     },
     "execution_count": 16,
     "metadata": {},
     "output_type": "execute_result"
    },
    {
     "data": {
      "image/png": "[encoded data removed]",
      "text/plain": [
       "<matplotlib.figure.Figure at 0x7fbefa736bd0>"
      ]
     },
     "metadata": {},
     "output_type": "display_data"
    }
   ],
   "source": [
    "import matplotlib.pyplot as plt\n",
    "import pandas as pd\n",
    "from collections import Counter\n",
    "\n",
    "data = pd.read_csv(output_dir + 'small_graph_filenames.csv',\n",
    "                   delimiter='/', names=['label', 'graph_id', 'filename'])\n",
    "label_cnts = Counter(data['label'])\n",
    "print(label_cnts)\n",
    "df = pd.DataFrame.from_dict(label_cnts, orient='index')\n",
    "df.plot(kind='bar')"
   ]
  },
  {
   "cell_type": "code",
   "execution_count": null,
   "metadata": {},
   "outputs": [],
   "source": []
  }
 ],
 "metadata": {
  "kernelspec": {
   "display_name": "Python 2",
   "language": "python",
   "name": "python2"
  },
  "language_info": {
   "codemirror_mode": {
    "name": "ipython",
    "version": 2
   },
   "file_extension": ".py",
   "mimetype": "text/x-python",
   "name": "python",
   "nbconvert_exporter": "python",
   "pygments_lexer": "ipython2",
   "version": "2.7.12"
  }
 },
 "nbformat": 4,
 "nbformat_minor": 2
}
