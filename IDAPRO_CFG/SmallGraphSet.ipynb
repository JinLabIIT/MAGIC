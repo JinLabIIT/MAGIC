{
 "cells": [
  {
   "cell_type": "markdown",
   "metadata": {},
   "source": [
    "Pick out graphs size < 200"
   ]
  },
  {
   "cell_type": "code",
   "execution_count": 1,
   "metadata": {},
   "outputs": [],
   "source": [
    "from node_attributes import classify_operator, match_constant\n",
    "\n",
    "def node_features(G):\n",
    "    \"\"\"\n",
    "    Extract features in each node:\n",
    "    7 operator features + 2 operand features.\n",
    "    \"\"\"\n",
    "    features = np.zeros((number_of_nodes(G), 7 + 2))\n",
    "    for (i, (node, attributes)) in enumerate(G.nodes(data=True)):\n",
    "        instructions = attributes['Ins']\n",
    "        for (addr, inst) in instructions:\n",
    "            if len(inst) == 0:\n",
    "                break\n",
    "            \"\"\"\n",
    "            Format of assembly code: \"operator operand, operand, ..., operand\"\n",
    "            \"\"\"\n",
    "            operator_class = classify_operator(inst[0])\n",
    "            features[i, operator_class] += 1\n",
    "            if len(inst) == 1:\n",
    "                continue\n",
    "                \n",
    "            for part in inst[1].split(','):\n",
    "                comment_idx = part.find(';')\n",
    "                operand = part if comment_idx == -1 else part[:comment_idx]\n",
    "                numeric_cnts, string_cnts = match_constant(operand)\n",
    "                features[i, -2] += numeric_cnts\n",
    "                features[i, -1] += string_cnts\n",
    "                \n",
    "    return features"
   ]
  },
  {
   "cell_type": "code",
   "execution_count": 2,
   "metadata": {},
   "outputs": [
    {
     "name": "stdout",
     "output_type": "stream",
     "text": [
      "Processing Bagle CFGs\n",
      "Processing Bifrose CFGs\n",
      "[Warning] Bifrose/68577f95d878fb0d3cb1ccb311bcd375 is empty\n",
      "Processing Benign CFGs\n",
      "[Warning] Benign/ef11db385af16b633efbd524907baa58 is empty\n",
      "1070 / 1689 = 0.63\n",
      "10 random files processed\n",
      "['Bifrose/33693d34f1afcfb4eb5509496b7f5207/Trojan.Win32.Midgare.hgi.gpickle', 'Bagle/4fb426de872ee9b20c3312fae3adf018/Email-Worm.Win32.Bagle.cs.gpickle', 'Bifrose/570d2f8c7fbb56702a5645092a8d84c5/Backdoor.Win32.Bifrose.aaxv.gpickle', 'Bifrose/49342d8c6891b1f15446b5a6de9bc602/Backdoor.Win32.Bifrose.tyt.gpickle', 'Bifrose/367d4ba61ea0245147e23ebd270f5876/Backdoor.Win32.Bifrose.amil.gpickle', 'Bifrose/1c91ca899855227113c24cd04315da5a/ar4up-4a0a67278d.gpickle', 'Bifrose/4d780199a04962859b42d072f0604747/CC22AB97.EXE.gpickle', 'Bagle/2466231afa5cd01eb38131419d1a810e/Worm.Bagle.AC.cpl.gpickle', 'Bifrose/55d2d0193e6ace4488d664933d67daa6/Trojan.Win32.Midgare.sry.gpickle', 'Bifrose/5a488694a72518619864a300e57db722/41473667.EXE.gpickle']\n"
     ]
    }
   ],
   "source": [
    "from __future__ import absolute_import\n",
    "from __future__ import division\n",
    "from __future__ import print_function\n",
    "\n",
    "import glob\n",
    "import pickle as pkl\n",
    "import numpy as np\n",
    "import scipy as sp\n",
    "import pandas as pd\n",
    "from networkx import number_of_nodes, adjacency_matrix\n",
    "\n",
    "class_dirnames = glob.glob('*')\n",
    "\n",
    "small_graph_filenames = []\n",
    "total = 0\n",
    "MAX_GRAPH_SIZE = 200\n",
    "output_dir = 'SmallACFGs/'\n",
    "CFG_labels = ['Benign', 'Bagle', 'Bifrose']\n",
    "\n",
    "\"\"\"Path name format: class/graph_id/pkl_name\"\"\"\n",
    "for class_dirname in class_dirnames:\n",
    "    if class_dirname not in CFG_labels:\n",
    "        continue\n",
    "        \n",
    "    print(\"Processing %s CFGs\" % class_dirname)\n",
    "    data_dirnames = glob.glob(class_dirname + '/*')\n",
    "    for data_dirname in data_dirnames:\n",
    "        pkl_filenames = glob.glob(data_dirname + '/*')\n",
    "        if len(pkl_filenames) == 0:\n",
    "            print('[Warning] %s is empty' % data_dirname)\n",
    "        else:\n",
    "            # Assume only 1 file under data dir\n",
    "            total += 1\n",
    "            G = pkl.load(open(pkl_filenames[0], 'rb'))\n",
    "            graph_id = pkl_filenames[0].split('/')[1]\n",
    "            label = class_dirname\n",
    "            \n",
    "            if number_of_nodes(G) < MAX_GRAPH_SIZE:\n",
    "                small_graph_filenames.append(pkl_filenames[0])\n",
    "                features = node_features(G)\n",
    "                np.savetxt(output_dir + graph_id + '.features.txt', features, fmt=\"%d\")\n",
    "                np.savetxt(output_dir + graph_id + '.label.txt', np.array([label]), fmt=\"%s\")\n",
    "                np.savetxt(output_dir + graph_id + '.adjacent.txt', adjacency_matrix(G).todense(), fmt=\"%d\")\n",
    "                sp.sparse.save_npz(output_dir + graph_id + '.adjacent', adjacency_matrix(G))\n",
    "\n",
    "\n",
    "np.savetxt(output_dir + 'small_graph_filenames.csv', small_graph_filenames, fmt=\"%s\")\n",
    "small_cnt = len(small_graph_filenames)\n",
    "print(\"%d / %d = %.2f\" % (small_cnt, total, small_cnt / total))\n",
    "print(\"10 random files processed\")\n",
    "print([small_graph_filenames[x] for x in np.random.randint(0, small_cnt, size=10)])"
   ]
  },
  {
   "cell_type": "code",
   "execution_count": 9,
   "metadata": {},
   "outputs": [
    {
     "name": "stdout",
     "output_type": "stream",
     "text": [
      "Counter({'Bifrose': 917, 'Bagle': 136, 'Benign': 17})\n"
     ]
    },
    {
     "data": {
      "text/plain": [
       "<matplotlib.axes._subplots.AxesSubplot at 0x7facb179f190>"
      ]
     },
     "execution_count": 9,
     "metadata": {},
     "output_type": "execute_result"
    },
    {
     "data": {
      "image/png": "[encoded data removed]",
      "text/plain": [
       "<matplotlib.figure.Figure at 0x7facc8205f90>"
      ]
     },
     "metadata": {},
     "output_type": "display_data"
    }
   ],
   "source": [
    "import matplotlib.pyplot as plt\n",
    "import pandas as pd\n",
    "from collections import Counter\n",
    "\n",
    "data = pd.read_csv('SmallACFGs/small_graph_filenames.csv',\n",
    "                   delimiter='/', names=['label', 'graph_id', 'filename'])\n",
    "label_cnts = Counter(data['label'])\n",
    "print(label_cnts)\n",
    "df = pd.DataFrame.from_dict(label_cnts, orient='index')\n",
    "df.plot(kind='bar')"
   ]
  },
  {
   "cell_type": "code",
   "execution_count": null,
   "metadata": {},
   "outputs": [],
   "source": []
  }
 ],
 "metadata": {
  "kernelspec": {
   "display_name": "Python 2",
   "language": "python",
   "name": "python2"
  },
  "language_info": {
   "codemirror_mode": {
    "name": "ipython",
    "version": 2
   },
   "file_extension": ".py",
   "mimetype": "text/x-python",
   "name": "python",
   "nbconvert_exporter": "python",
   "pygments_lexer": "ipython2",
   "version": "2.7.12"
  }
 },
 "nbformat": 4,
 "nbformat_minor": 2
}
